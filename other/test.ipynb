{
 "cells": [
  {
   "cell_type": "code",
   "execution_count": 8,
   "metadata": {},
   "outputs": [
    {
     "data": {
      "text/plain": [
       "0.175"
      ]
     },
     "execution_count": 8,
     "metadata": {},
     "output_type": "execute_result"
    }
   ],
   "source": [
    "0.0008*3600\n",
    "2.8/16"
   ]
  },
  {
   "cell_type": "markdown",
   "metadata": {},
   "source": [
    "# PDF\n",
    "\n",
    "## Introduction\n",
    "\n",
    "In probability theory, the Probability Density Function (PDF) is a function that describes the likelihood of a random variable taking on a specific value. In this document, we will derive the PDF for a distribution given a vector of probabilities and parameters.\n",
    "\n",
    "## Derivation\n",
    "\n",
    "Consider a distribution defined by the vector $\\mathbf{p} = [p_1, p_2, p_3]$ and parameters $\\boldsymbol{\\alpha} = [\\alpha_1, \\alpha_2, \\alpha_3]$. The PDF for this distribution is given by:\n",
    "\n",
    "$$\n",
    "\\begin{aligned}\n",
    "    P(\\mathbf{p} | \\boldsymbol{\\alpha})\n",
    "    &= \\begin{pmatrix}\n",
    "        \\alpha - 3 \\\\\n",
    "        \\alpha_1 - 1\n",
    "    \\end{pmatrix}\n",
    "    \\cdot p_1^{\\alpha_1 - 1} \\times\n",
    "    \\begin{pmatrix}\n",
    "        \\alpha - 3 - (\\alpha_1 - 1) \\\\\n",
    "        \\alpha_2 - 1\n",
    "    \\end{pmatrix}\n",
    "    \\cdot p_2^{\\alpha_2 - 1} \\times\n",
    "    \\begin{pmatrix}\n",
    "        \\alpha - 3 - (\\alpha_1 - 1) - (\\alpha_2 - 1) \\\\\n",
    "        \\alpha_3 - 1\n",
    "    \\end{pmatrix}\n",
    "    \\cdot p_3^{\\alpha_3 - 1} \\\\\n",
    "    &= \\frac{(\\alpha - 1)!}{(\\alpha_1 - 1)! \\cdot (\\alpha_2 - 1)! \\cdot (\\alpha_3 - 1)!} \\times p_1^{\\alpha_1 - 1} \\times p_2^{\\alpha_2 - 1} \\times p_3^{\\alpha_3 - 1}\n",
    "\\end{aligned}\n",
    "$$\n",
    "\n",
    "Thus, generally,\n",
    "\n",
    "$$\n",
    "P(\\mathbf{p} | \\boldsymbol{\\alpha}) =\n",
    "\\frac{\n",
    "        (\\alpha - 1)!\n",
    "    }\n",
    "    {\n",
    "        (\\alpha_1 - 1)! \\cdot (\\alpha_2 - 1)! \\cdots (\\alpha_k - 1)!\n",
    "    }\n",
    "    \\times\n",
    "    \\prod_{i=1}^{k} (p_i^{\\alpha_i - 1})\n",
    "$$\n",
    "\n",
    "Where:\n",
    "\n",
    "- $\\alpha = \\sum_{i=1}^{3} \\alpha_i$ is the sum of all $\\alpha_i$ values.\n",
    "- $C(n, k)$ denotes the combination notation, representing the number of combinations of $n$ elements taken $k$ at a time.\n",
    "- $\\prod$ denotes the product notation, representing the product of a sequence of terms.\n",
    "- The constraint $0 \\leq p_i \\leq 1$ ensures that each $p_i$ is a valid probability.\n",
    "- $(\\alpha - 1)!$ denotes the factorial of $(\\alpha - 1)$.\n",
    "\n",
    "The expression ensures that the probabilities sum up to 1.\n",
    "\n",
    "## Conclusion\n",
    "\n",
    "The derived expression provides a way to calculate the PDF for a distribution with specified probabilities and parameters, ensuring that the probabilities sum up to 1.\n"
   ]
  }
 ],
 "metadata": {
  "kernelspec": {
   "display_name": "base",
   "language": "python",
   "name": "python3"
  },
  "language_info": {
   "codemirror_mode": {
    "name": "ipython",
    "version": 3
   },
   "file_extension": ".py",
   "mimetype": "text/x-python",
   "name": "python",
   "nbconvert_exporter": "python",
   "pygments_lexer": "ipython3",
   "version": "3.10.13"
  }
 },
 "nbformat": 4,
 "nbformat_minor": 2
}
